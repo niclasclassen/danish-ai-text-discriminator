{
 "cells": [
  {
   "cell_type": "code",
   "execution_count": 3,
   "metadata": {},
   "outputs": [],
   "source": [
    "import pandas as pd\n",
    "import re"
   ]
  },
  {
   "cell_type": "code",
   "execution_count": null,
   "metadata": {},
   "outputs": [
    {
     "name": "stdout",
     "output_type": "stream",
     "text": [
      "                                         Original Title  \\\n",
      "0     Min fætter har rejst jorden rundt for at spill...   \n",
      "1     Hvem skal vi som danskere kontakte for at sikr...   \n",
      "2          Tak til mændene i det københavnske natteliv!   \n",
      "3     Husk at skrive til repræsentaterne i EU om ACT...   \n",
      "4                     Bødskov: Danmark er det svage led   \n",
      "...                                                 ...   \n",
      "2108                      Hvordan siger man sit job op?   \n",
      "2109  Jeg er afhængig af Heroin og starter på misbru...   \n",
      "2110        Jeg er træt til døden af denne LORTESOMMER!   \n",
      "2111  Er der nogle der kan forklarer mig hvorfor int...   \n",
      "2112  Er der andre der synes at ekspeditionsgebyret ...   \n",
      "\n",
      "                                          Original Text  \\\n",
      "0     Hans film er gode, men jeg syns ikke helt de h...   \n",
      "1     Jeg ved egentligt meget mindre om politik end ...   \n",
      "2     Tak til natbuschaufføren, der ventede med at k...   \n",
      "3     Vil lige igen minde folk på [/r/Denmark](/r/De...   \n",
      "4     http://www.dr.dk/Nyheder/Politik/2012/01/27/12...   \n",
      "...                                                 ...   \n",
      "2108  Hej r/Denmark Jeg har for nylig haft et ret ub...   \n",
      "2109  Jeg havde en meget slem infektion i min højre ...   \n",
      "2110  Man kan ikke sove om natten, man kan ikke opho...   \n",
      "2111  Jeg sidder netop og skal bestille nyt internet...   \n",
      "2112  Jeg bestilte her den anden dag noget fra USA (...   \n",
      "\n",
      "                                        Rewritten Title  \n",
      "0     Min fætter har rejst verden rundt for at skabe...  \n",
      "1                                                  None  \n",
      "2                                                  None  \n",
      "3                                                  None  \n",
      "4                                                  None  \n",
      "...                                                 ...  \n",
      "2108                                               None  \n",
      "2109                                               None  \n",
      "2110                                               None  \n",
      "2111                                               None  \n",
      "2112  Er der andre der synes, at ekspeditionsgebyret...  \n",
      "\n",
      "[2113 rows x 3 columns]\n"
     ]
    }
   ],
   "source": [
    "path = 'rephrased_texts.csv'\n",
    "\n",
    "# Read the CSV file into a DataFrame\n",
    "df = pd.read_csv(path)\n",
    "\n",
    "# Function to clean and split the rewritten text\n",
    "def clean_and_split_rewritten_text(text):\n",
    "    title_match = re.search(r'<<Title>>\\s*\\[Rewritten title here: (.*?)\\]', text, re.DOTALL)\n",
    "    text_match = re.search(r'<<Text>>\\s*\\[Rewritten text here: (.*?)\\]', text, re.DOTALL)\n",
    "    \n",
    "    if title_match and text_match:\n",
    "        return title_match.group(1).strip(), text_match.group(1).strip()\n",
    "    return None, None\n",
    "\n",
    "# Apply the function to the \"Rewritten Text\" column\n",
    "df[['Rewritten Title', 'Rewritten Text']] = df['Rewritten Text'].apply(lambda x: pd.Series(clean_and_split_rewritten_text(x)))\n",
    "\n",
    "# Drop the original \"Rewritten Text\" column\n",
    "df.drop(columns=['Rewritten Text'], inplace=True)\n",
    "\n",
    "# Display the cleaned DataFrame\n",
    "print(df)"
   ]
  },
  {
   "cell_type": "code",
   "execution_count": null,
   "metadata": {},
   "outputs": [],
   "source": []
  }
 ],
 "metadata": {
  "kernelspec": {
   "display_name": ".venv",
   "language": "python",
   "name": "python3"
  },
  "language_info": {
   "codemirror_mode": {
    "name": "ipython",
    "version": 3
   },
   "file_extension": ".py",
   "mimetype": "text/x-python",
   "name": "python",
   "nbconvert_exporter": "python",
   "pygments_lexer": "ipython3",
   "version": "3.12.0"
  }
 },
 "nbformat": 4,
 "nbformat_minor": 2
}
