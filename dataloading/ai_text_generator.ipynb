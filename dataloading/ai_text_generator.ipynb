{
 "cells": [
  {
   "cell_type": "markdown",
   "metadata": {},
   "source": [
    "# AI Text Generator: GPT-X\n",
    "TODO: Add description"
   ]
  },
  {
   "cell_type": "markdown",
   "metadata": {},
   "source": [
    "### Step 1: Read human generated text\n",
    "TODO: Add description"
   ]
  },
  {
   "cell_type": "code",
   "execution_count": 1,
   "metadata": {},
   "outputs": [],
   "source": [
    "# TODO"
   ]
  },
  {
   "cell_type": "markdown",
   "metadata": {},
   "source": [
    "### Step 2: Generate text using GPT-X\n",
    "TODO: Add description"
   ]
  },
  {
   "cell_type": "code",
   "execution_count": null,
   "metadata": {},
   "outputs": [],
   "source": [
    "from openai import OpenAI\n",
    "from dotenv import load_dotenv\n",
    "\n",
    "load_dotenv()"
   ]
  },
  {
   "cell_type": "code",
   "execution_count": null,
   "metadata": {},
   "outputs": [],
   "source": [
    "def call_openai(context, model=\"TODO: Add\"):\n",
    "    response = client.chat.completions.create(\n",
    "        model=model,\n",
    "        messages=[\n",
    "            {\"role\": \"system\", \"content\": context[\"system_message\"]},\n",
    "            {\"role\": \"user\", \"content\": context[\"input_text\"]},\n",
    "        ],\n",
    "        temperature=1,  # Controls the randomness of the output. Higher values make the output more random.\n",
    "        max_tokens=500,  # Limits the number of tokens in the output.\n",
    "        top_p=1,  # Controls the diversity of the output by sampling from the top p probability mass.\n",
    "        frequency_penalty=0,  # Penalizes new tokens based on their existing frequency in the text so far.\n",
    "        presence_penalty=0,  # Penalizes new tokens based on whether they appear in the text so far.\n",
    "    ).model_dump()  # Converts the response to a dictionary.\n",
    "    return response"
   ]
  },
  {
   "cell_type": "code",
   "execution_count": null,
   "metadata": {},
   "outputs": [],
   "source": [
    "def create_ai_generated_text(human_generated_text, context):\n",
    "\n",
    "    # TODO: Create context based on human_generated_text\n",
    "    # TODO: create loop and store responses\n",
    "\n",
    "    response = call_openai(context)\n",
    "    return response[\"choices\"][0][\"message\"][\"content\"]"
   ]
  }
 ],
 "metadata": {
  "kernelspec": {
   "display_name": ".venv",
   "language": "python",
   "name": "python3"
  },
  "language_info": {
   "codemirror_mode": {
    "name": "ipython",
    "version": 3
   },
   "file_extension": ".py",
   "mimetype": "text/x-python",
   "name": "python",
   "nbconvert_exporter": "python",
   "pygments_lexer": "ipython3",
   "version": "3.7.0"
  }
 },
 "nbformat": 4,
 "nbformat_minor": 2
}
