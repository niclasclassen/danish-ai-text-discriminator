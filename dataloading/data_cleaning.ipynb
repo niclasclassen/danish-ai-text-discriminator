{
 "cells": [
  {
   "cell_type": "code",
   "execution_count": null,
   "metadata": {},
   "outputs": [
    {
     "name": "stdout",
     "output_type": "stream",
     "text": [
      "                                               title  \\\n",
      "0  Min fætter har rejst jorden rundt for at spill...   \n",
      "1  Hvem skal vi som danskere kontakte for at sikr...   \n",
      "2       Tak til mændene i det københavnske natteliv!   \n",
      "3  Husk at skrive til repræsentaterne i EU om ACT...   \n",
      "4                  Bødskov: Danmark er det svage led   \n",
      "\n",
      "                                                text  upvotes  \n",
      "0  Hans film er gode, men jeg syns ikke helt de h...       10  \n",
      "1  Jeg ved egentligt meget mindre om politik end ...       35  \n",
      "2  Tak til natbuschaufføren, der ventede med at k...       75  \n",
      "3  Vil lige igen minde folk på [/r/Denmark](/r/De...       45  \n",
      "4  http://www.dr.dk/Nyheder/Politik/2012/01/27/12...       12  \n"
     ]
    }
   ],
   "source": [
    "import pandas as pd\n",
    "import re\n",
    "import html\n",
    "\n",
    "# File path\n",
    "file = \"../reddit.csv\"\n",
    "\n",
    "# Load the data\n",
    "df = pd.read_csv(file)\n",
    "\n",
    "# Function to clean and standardize text\n",
    "def clean_text(text):\n",
    "    # Unescape HTML entities\n",
    "    text = html.unescape(text)\n",
    "    # Remove leading and trailing whitespace\n",
    "    text = text.strip()\n",
    "    # Replace multiple spaces with a single space\n",
    "    text = ' '.join(text.split())\n",
    "    # Remove markdown bold formatting (e.g., **bold**)\n",
    "    text = re.sub(r'\\*\\*(.*?)\\*\\*', r'\\1', text)\n",
    "    # Remove other markdown formatting if needed (e.g., *italic*, __underline__, etc.)\n",
    "    text = re.sub(r'\\*(.*?)\\*', r'\\1', text)\n",
    "    text = re.sub(r'__(.*?)__', r'\\1', text)\n",
    "\n",
    "    return text\n",
    "\n",
    "# Apply the clean_text function to the 'title' and 'text' columns\n",
    "df['title'] = df['title'].apply(clean_text)\n",
    "df['text'] = df['text'].apply(clean_text)\n",
    "\n",
    "# Display the cleaned DataFrame\n",
    "print(df.head())"
   ]
  },
  {
   "cell_type": "code",
   "execution_count": 16,
   "metadata": {},
   "outputs": [],
   "source": [
    "# Save the cleaned DataFrame to a new CSV file\n",
    "df.to_csv(\"../reddit_cleaned.csv\", index=False)"
   ]
  },
  {
   "cell_type": "code",
   "execution_count": null,
   "metadata": {},
   "outputs": [],
   "source": []
  },
  {
   "cell_type": "code",
   "execution_count": null,
   "metadata": {},
   "outputs": [],
   "source": [
    "import pandas as pd\n",
    "import re\n",
    "import html\n",
    "\n",
    "# File path\n",
    "file = \"../reddit.csv\"\n",
    "\n",
    "# Load the data\n",
    "df = pd.read_csv(file)\n",
    "\n",
    "# Helper functions\n",
    "def unescape_html(text):\n",
    "    return html.unescape(text)\n",
    "\n",
    "def remove_markdown(text):\n",
    "    # Remove markdown bold, italic, underline, links, and inline code\n",
    "    text = re.sub(r'\\*\\*(.*?)\\*\\*', r'\\1', text)  # Bold\n",
    "    text = re.sub(r'\\*(.*?)\\*', r'\\1', text)      # Italic\n",
    "    text = re.sub(r'__(.*?)__', r'\\1', text)      # Underline\n",
    "    text = re.sub(r'\\[(.*?)\\]\\((.*?)\\)', r'\\1 (\\2)', text)  # Links\n",
    "    text = re.sub(r'`(.*?)`', r'\\1', text)        # Inline code\n",
    "    return text\n",
    "\n",
    "def normalize_whitespace(text):\n",
    "    text = text.strip()  # Remove leading/trailing whitespace\n",
    "    text = ' '.join(text.split())  # Replace multiple spaces with a single space\n",
    "    text = text.replace('\\n', ' ')  # Replace newlines with spaces\n",
    "    return text\n",
    "\n",
    "def clean_text(text):\n",
    "    text = unescape_html(text)\n",
    "    text = remove_markdown(text)\n",
    "    text = normalize_whitespace(text)\n",
    "    return text\n",
    "\n",
    "# Apply cleaning function\n",
    "df['title'] = df['title'].apply(clean_text)\n",
    "df['text'] = df['text'].apply(clean_text)\n",
    "\n",
    "# Display the cleaned DataFrame\n",
    "print(df.head())"
   ]
  }
 ],
 "metadata": {
  "kernelspec": {
   "display_name": ".venv",
   "language": "python",
   "name": "python3"
  },
  "language_info": {
   "codemirror_mode": {
    "name": "ipython",
    "version": 3
   },
   "file_extension": ".py",
   "mimetype": "text/x-python",
   "name": "python",
   "nbconvert_exporter": "python",
   "pygments_lexer": "ipython3",
   "version": "3.12.0"
  }
 },
 "nbformat": 4,
 "nbformat_minor": 2
}
