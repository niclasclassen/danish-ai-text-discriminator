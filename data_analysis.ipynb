{
 "cells": [
  {
   "cell_type": "markdown",
   "metadata": {},
   "source": [
    "# Preparation and evaluation of manual annotation\n",
    "\n",
    "This notebook is a part of the project to create a dataset for manual annotation. This dataset will be the same as the test set used for our model. The goal is to evaluate the quality of the model compared to a human annotator and to understand the errors made by the model. "
   ]
  },
  {
   "cell_type": "markdown",
   "metadata": {},
   "source": [
    "## Step 1: Create full dataset consisting of human generated text and AI generated text"
   ]
  },
  {
   "cell_type": "code",
   "execution_count": null,
   "metadata": {},
   "outputs": [],
   "source": [
    "import pandas as pd\n",
    "\n",
    "path1 = \"cleaned_final_title_based.csv\"\n",
    "path2 = \"cleaned_final.csv\"\n",
    "\n",
    "# Read the CSV files into DataFrames\n",
    "df1 = pd.read_csv(path1)\n",
    "df2 = pd.read_csv(path2)\n",
    "\n",
    "# Select specific columns from df1 and df2\n",
    "selected_columns_df1 = df1[['Combined Text', 'Rewritten Text']]\n",
    "\n",
    "df2.rename(columns={'Rewritten Text': 'Generated Text'}, inplace=True)\n",
    "selected_columns_df2 = df2[['Generated Text']]\n",
    "\n",
    "# Combine the selected columns into a new DataFrame\n",
    "new_df = pd.concat([selected_columns_df1, selected_columns_df2], axis=1)"
   ]
  },
  {
   "cell_type": "code",
   "execution_count": 123,
   "metadata": {},
   "outputs": [],
   "source": [
    "new_df.to_csv('combined_file_final.csv', index=False)"
   ]
  },
  {
   "cell_type": "code",
   "execution_count": null,
   "metadata": {},
   "outputs": [],
   "source": [
    "new_df.head()"
   ]
  },
  {
   "cell_type": "markdown",
   "metadata": {},
   "source": [
    "## Step 2: Create test set for manual annotation"
   ]
  },
  {
   "cell_type": "code",
   "execution_count": 126,
   "metadata": {},
   "outputs": [],
   "source": [
    "from sklearn.model_selection import train_test_split"
   ]
  },
  {
   "cell_type": "code",
   "execution_count": null,
   "metadata": {},
   "outputs": [],
   "source": [
    "def load_data():\n",
    "    data = pd.read_csv(\"combined_file_final.csv\", sep=\";\")\n",
    "    human_df = data[[\"Combined Text\"]]\n",
    "    human_df[\"label\"] = 0\n",
    "    ai_df = data[[\"Rewritten Text\"]]\n",
    "    ai_df[\"label\"] = 1\n",
    "    ai_df2 = data[[\"Generated Text\"]]\n",
    "    ai_df2[\"label\"] = 1\n",
    "    human_df = human_df.rename(columns={\"Combined Text\": \"Text\"})\n",
    "    ai_df = ai_df.rename(columns={\"Rewritten Text\": \"Text\"})\n",
    "    ai_df2 = ai_df2.rename(columns={\"Generated Text\": \"Text\"})\n",
    "    data = pd.concat([human_df, ai_df, ai_df2], ignore_index=True)\n",
    "    return data\n",
    "\n",
    "data = load_data()\n",
    "data.head()"
   ]
  },
  {
   "cell_type": "code",
   "execution_count": null,
   "metadata": {},
   "outputs": [],
   "source": [
    "data = data.sample(frac=1, random_state=42).reset_index(drop=True)\n",
    "train_texts, test_texts, train_labels, test_labels = train_test_split(data[\"Text\"], data[\"label\"], test_size=0.2, random_state=42, stratify=data[\"label\"])    \n",
    "train_texts, val_texts, train_labels, val_labels = train_test_split(train_texts, train_labels, test_size=0.2, random_state=42, stratify=train_labels)\n",
    "train_texts"
   ]
  },
  {
   "cell_type": "code",
   "execution_count": 98,
   "metadata": {},
   "outputs": [],
   "source": [
    "# Save the test texts and labels to separate CSV files\n",
    "test_texts.to_csv('test_texts_manuel_annotation.csv', index=False, header=True)\n",
    "test_labels.to_csv('test_labels_manuel_annotation.csv', index=False, header=True)\n"
   ]
  },
  {
   "cell_type": "code",
   "execution_count": null,
   "metadata": {},
   "outputs": [],
   "source": [
    "print(train_texts.shape)\n",
    "print(test_texts.shape)"
   ]
  },
  {
   "cell_type": "markdown",
   "metadata": {},
   "source": [
    "## Step 3: Evaluate manual annotation"
   ]
  },
  {
   "cell_type": "code",
   "execution_count": null,
   "metadata": {},
   "outputs": [],
   "source": [
    "from sklearn.metrics import f1_score, confusion_matrix\n",
    "import seaborn as sns\n",
    "import matplotlib.pyplot as plt"
   ]
  },
  {
   "cell_type": "code",
   "execution_count": 120,
   "metadata": {},
   "outputs": [],
   "source": [
    "path1 = \"test_texts_manuel_annotation_niclas.csv\"\n",
    "path2 = \"test_labels_manuel_annotation.csv\"\n",
    "\n",
    "# Read the first CSV file and keep only the first 250 rows\n",
    "df1 = pd.read_csv(path1, sep=\";\").head(250)\n",
    "\n",
    "# Read the second CSV file and keep only the first 250 rows\n",
    "df2 = pd.read_csv(path2).head(250)"
   ]
  },
  {
   "cell_type": "code",
   "execution_count": null,
   "metadata": {},
   "outputs": [],
   "source": [
    "# Assuming the label columns are named 'label' in both dataframes\n",
    "labels1 = df1['Label']\n",
    "labels2 = df2['label']\n",
    "\n",
    "# Calculate the F1 score\n",
    "conf_matrix = confusion_matrix(labels1, labels2)\n",
    "\n",
    "print(f'F1 Score: {f1}')\n",
    "print('Confusion Matrix:')\n",
    "print(conf_matrix)\n",
    "\n",
    "# Plot the confusion matrix\n",
    "plt.figure(figsize=(10, 7))\n",
    "sns.heatmap(conf_matrix, annot=True, fmt='d', cmap='Blues')\n",
    "plt.xlabel('Predicted Labels')\n",
    "plt.ylabel('True Labels')\n",
    "plt.title('Confusion Matrix')\n",
    "plt.show()"
   ]
  },
  {
   "cell_type": "code",
   "execution_count": null,
   "metadata": {},
   "outputs": [],
   "source": [
    "\n",
    "# Get the indices of NaN values in each label column\n",
    "nan_indices_labels1 = labels1[labels1.isna()].index\n",
    "nan_indices_labels2 = labels2[labels2.isna()].index\n",
    "\n",
    "print(f'Indices of NaN values in labels1: {nan_indices_labels1.tolist()}')\n",
    "print(f'Indices of NaN values in labels2: {nan_indices_labels2.tolist()}')"
   ]
  }
 ],
 "metadata": {
  "kernelspec": {
   "display_name": ".venv",
   "language": "python",
   "name": "python3"
  },
  "language_info": {
   "codemirror_mode": {
    "name": "ipython",
    "version": 3
   },
   "file_extension": ".py",
   "mimetype": "text/x-python",
   "name": "python",
   "nbconvert_exporter": "python",
   "pygments_lexer": "ipython3",
   "version": "3.12.0"
  }
 },
 "nbformat": 4,
 "nbformat_minor": 2
}
